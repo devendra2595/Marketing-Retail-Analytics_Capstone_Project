{
 "cells": [
  {
   "cell_type": "markdown",
   "id": "41d621bc",
   "metadata": {},
   "source": [
    "# Marketing and Retail Analytics"
   ]
  },
  {
   "cell_type": "markdown",
   "id": "79b36701",
   "metadata": {},
   "source": [
    "OList is an e-commerce company that has faced some losses recently and they want to manage their inventory very well so as to reduce any unnecessary costs that they might be bearing.\n",
    "\n",
    "In this assignment, we need to manage the inventory cost of this e-commerce company. We need to identify top products that contribute to the revenue and also use market basket analysis to analyse the purchase behaviour of individual customers to estimate with relative certainty, what items are more likely to be purchased individually or in combination with some other products.\n",
    "\n",
    "So ultimately, we need to help OList to identify the product categories which they can get rid of without significantly impacting business."
   ]
  },
  {
   "cell_type": "code",
   "execution_count": null,
   "id": "c3a31234",
   "metadata": {},
   "outputs": [],
   "source": [
    "!pip install xlsxwriter"
   ]
  },
  {
   "cell_type": "markdown",
   "id": "3f9817ee",
   "metadata": {},
   "source": [
    "Loading the necessary libraries"
   ]
  },
  {
   "cell_type": "code",
   "execution_count": null,
   "id": "8ea50e79",
   "metadata": {},
   "outputs": [],
   "source": [
    "import pandas as pd\n",
    "import numpy as np\n",
    "import datetime\n",
    "\n",
    "import warnings\n",
    "warnings.filterwarnings(\"ignore\")\n",
    "\n",
    "import matplotlib.pyplot as plt\n",
    "import seaborn as sns\n",
    "%matplotlib inline"
   ]
  },
  {
   "cell_type": "code",
   "execution_count": null,
   "id": "45578820",
   "metadata": {},
   "outputs": [],
   "source": [
    "pd.set_option('max_colwidth', 800)\n",
    "pd.set_option('display.max_rows', 500)"
   ]
  },
  {
   "cell_type": "markdown",
   "id": "3c83df86",
   "metadata": {},
   "source": [
    "# Data Exploration and Cleaning"
   ]
  },
  {
   "cell_type": "markdown",
   "id": "9c0432cf",
   "metadata": {},
   "source": [
    "# 1. Reading the data from all the datasets"
   ]
  },
  {
   "cell_type": "code",
   "execution_count": null,
   "id": "e8e10170",
   "metadata": {},
   "outputs": [],
   "source": [
    "xls = pd.ExcelFile(\"Retail_dataset.xlsx\")"
   ]
  },
  {
   "cell_type": "code",
   "execution_count": null,
   "id": "c4cae8bd",
   "metadata": {},
   "outputs": [],
   "source": [
    "print(xls.sheet_names)"
   ]
  },
  {
   "cell_type": "markdown",
   "id": "59a2b5b9",
   "metadata": {},
   "source": [
    "### ERD"
   ]
  },
  {
   "attachments": {
    "image.png": {
     "image/png": "[encoded data removed]"
    }
   },
   "cell_type": "markdown",
   "id": "ebc6c2e0",
   "metadata": {},
   "source": [
    "![image.png](attachment:image.png)"
   ]
  },
  {
   "cell_type": "code",
   "execution_count": null,
   "id": "40c6fb98",
   "metadata": {},
   "outputs": [],
   "source": [
    "# Let's first load all the excel sheets in seperate dataframes."
   ]
  },
  {
   "cell_type": "code",
   "execution_count": null,
   "id": "61506334",
   "metadata": {},
   "outputs": [],
   "source": [
    "df_data_dict = pd.read_excel(xls,sheet_name='Data Dictionary')\n",
    "df_data_dict"
   ]
  },
  {
   "cell_type": "code",
   "execution_count": null,
   "id": "3939121e",
   "metadata": {
    "scrolled": true
   },
   "outputs": [],
   "source": [
    "df_orders = pd.read_excel(xls,sheet_name=\"orders\")\n",
    "df_orders.head()"
   ]
  },
  {
   "cell_type": "code",
   "execution_count": null,
   "id": "a0e70353",
   "metadata": {},
   "outputs": [],
   "source": [
    "# as we are only interested in delivered orders, we will filter out orders with order status as delivered\n",
    "df_orders = df_orders[df_orders.order_status=='delivered']"
   ]
  },
  {
   "cell_type": "code",
   "execution_count": null,
   "id": "d065cbcc",
   "metadata": {},
   "outputs": [],
   "source": [
    "df_ord_items= pd.read_excel(xls,sheet_name=\"order_items\")\n",
    "df_ord_items.head()"
   ]
  },
  {
   "cell_type": "code",
   "execution_count": null,
   "id": "62ebd670",
   "metadata": {},
   "outputs": [],
   "source": [
    "df_customers= pd.read_excel(xls,sheet_name=\"customers\")\n",
    "df_customers.head()"
   ]
  },
  {
   "cell_type": "code",
   "execution_count": null,
   "id": "30ffae4e",
   "metadata": {},
   "outputs": [],
   "source": [
    "df_payments= pd.read_excel(xls,sheet_name=\"payments\")\n",
    "df_payments.head()"
   ]
  },
  {
   "cell_type": "code",
   "execution_count": null,
   "id": "12852482",
   "metadata": {},
   "outputs": [],
   "source": [
    "df_products= pd.read_excel(xls,sheet_name=\"products\")\n",
    "df_products.head()"
   ]
  },
  {
   "cell_type": "code",
   "execution_count": null,
   "id": "deab4873",
   "metadata": {},
   "outputs": [],
   "source": []
  },
  {
   "cell_type": "markdown",
   "id": "e8dd0b2c",
   "metadata": {},
   "source": [
    "# 2. Sanity checks and Outliers detection"
   ]
  },
  {
   "cell_type": "markdown",
   "id": "b9b9dca3",
   "metadata": {},
   "source": [
    "### 2.1 Orders Dataframe"
   ]
  },
  {
   "cell_type": "code",
   "execution_count": null,
   "id": "c752ab1c",
   "metadata": {},
   "outputs": [],
   "source": [
    "df_orders.info()"
   ]
  },
  {
   "cell_type": "code",
   "execution_count": null,
   "id": "e8b056c0",
   "metadata": {},
   "outputs": [],
   "source": [
    "for i in df_orders.columns:\n",
    "    print(f\"duplicate values in {i}:\", df_orders[i].duplicated().sum())"
   ]
  },
  {
   "cell_type": "markdown",
   "id": "d1f65fcf",
   "metadata": {},
   "source": [
    "- the primary key, order_id, does not contain any duplicates"
   ]
  },
  {
   "cell_type": "code",
   "execution_count": null,
   "id": "1f42a060",
   "metadata": {},
   "outputs": [],
   "source": [
    "# as we are only considering delivered orders, we can even drop order_status column\n",
    "\n",
    "df_orders_cleaned = df_orders.drop('order_status',axis=1)\n",
    "df_orders_cleaned.head()"
   ]
  },
  {
   "cell_type": "code",
   "execution_count": null,
   "id": "1135d0ef",
   "metadata": {},
   "outputs": [],
   "source": [
    "df_orders_cleaned.isna().sum()"
   ]
  },
  {
   "cell_type": "code",
   "execution_count": null,
   "id": "d3103034",
   "metadata": {},
   "outputs": [],
   "source": [
    "# let's see the null value columns\n",
    "\n",
    "df_orders_cleaned[df_orders_cleaned.order_approved_at.isna() \n",
    "                  | df_orders_cleaned.order_delivered_timestamp.isna()].sort_values(by='order_purchase_timestamp')"
   ]
  },
  {
   "cell_type": "markdown",
   "id": "51ac5e52",
   "metadata": {},
   "source": [
    "- It can be observed that the missing values in 'order_approved_at' variable mostly belong to 'order_purchase_timestamp' date between 17th and 18th feb, 2017. so we can say that the missing values are dependent on 'order_purchase_timestamp' column, and can be categorised into 'Missing At Random' (MAR) category. So we will impute the missing values with the help of average time between 17th and 18th feb,2017 required to approve the order once purchased.\n",
    "\n",
    "- Whereas the missing values from 'order_delivered_timestamp' seems to be 'missing completely at random'. So we will impute the missing values with overall average delivery time once order is approved."
   ]
  },
  {
   "cell_type": "code",
   "execution_count": null,
   "id": "9d0ed57d",
   "metadata": {},
   "outputs": [],
   "source": [
    "#  Let's find out the time required for approval after purchase order has been placed.\n",
    "\n",
    "orders_approved_not_null = df_orders_cleaned[(df_orders_cleaned.order_purchase_timestamp>=pd.to_datetime('2017-02-17',format=\"%Y-%m-%d\")) & (df_orders_cleaned.order_purchase_timestamp<=pd.to_datetime('2017-02-18',format=\"%Y-%m-%d\")) & (~df_orders_cleaned.order_approved_at.isna())][['order_purchase_timestamp','order_approved_at']]\n",
    "orders_approved_not_null['approval_delay']=orders_approved_not_null.order_approved_at-orders_approved_not_null.order_purchase_timestamp\n",
    "orders_approved_not_null"
   ]
  },
  {
   "cell_type": "code",
   "execution_count": null,
   "id": "db718856",
   "metadata": {},
   "outputs": [],
   "source": [
    "# firstly, let's check distribution of approval_delay\n",
    "\n",
    "plt.figure(figsize=(5,3))\n",
    "sns.distplot(orders_approved_not_null['approval_delay'])\n",
    "plt.show()"
   ]
  },
  {
   "cell_type": "markdown",
   "id": "ba9f0624",
   "metadata": {},
   "source": [
    "- outliers are present, so we will use median."
   ]
  },
  {
   "cell_type": "code",
   "execution_count": null,
   "id": "f0beb238",
   "metadata": {},
   "outputs": [],
   "source": [
    "# imputing the missing values in order_approved_at column by calculating average time \n",
    "# required to approve the order after purchase and adding that time to purchase time."
   ]
  },
  {
   "cell_type": "code",
   "execution_count": null,
   "id": "47c41af6",
   "metadata": {},
   "outputs": [],
   "source": [
    "avg_approval_delay = orders_approved_not_null['approval_delay'].median()\n",
    "avg_approval_delay"
   ]
  },
  {
   "cell_type": "code",
   "execution_count": null,
   "id": "78f1a1f8",
   "metadata": {},
   "outputs": [],
   "source": [
    "df_orders_cleaned['order_approved_at'].fillna(df_orders_cleaned.order_purchase_timestamp+avg_approval_delay,inplace=True)"
   ]
  },
  {
   "cell_type": "code",
   "execution_count": null,
   "id": "9fcaf6df",
   "metadata": {},
   "outputs": [],
   "source": [
    "# Let's handle missing values from 'order_delivered_timestamp' column."
   ]
  },
  {
   "cell_type": "code",
   "execution_count": null,
   "id": "034be98d",
   "metadata": {},
   "outputs": [],
   "source": [
    "# By looking at missing values from 'order_delivered_timestamp', we could not deduce any pattern in their missingness.\n",
    "# let's impute with median value of delivery time."
   ]
  },
  {
   "cell_type": "code",
   "execution_count": null,
   "id": "b0513fdd",
   "metadata": {},
   "outputs": [],
   "source": [
    "orders_delivered_not_null = df_orders_cleaned[~df_orders_cleaned.order_delivered_timestamp.isna()][['order_purchase_timestamp','order_approved_at','order_delivered_timestamp']]\n",
    "orders_delivered_not_null['delivery_time']=orders_delivered_not_null.order_delivered_timestamp-orders_delivered_not_null.order_approved_at\n",
    "orders_delivered_not_null.sort_values(\"delivery_time\")"
   ]
  },
  {
   "cell_type": "markdown",
   "id": "8697e09f",
   "metadata": {},
   "source": [
    "- We are getting delivery_time as negative in some records, which means that there must be some issue with the orders approval or orders delivery timestamp."
   ]
  },
  {
   "cell_type": "code",
   "execution_count": null,
   "id": "dbe48114",
   "metadata": {},
   "outputs": [],
   "source": [
    "# let's check the records where order_approved_at > order_delivered_timestamp"
   ]
  },
  {
   "cell_type": "code",
   "execution_count": null,
   "id": "b7422b77",
   "metadata": {},
   "outputs": [],
   "source": [
    "idx = orders_delivered_not_null[orders_delivered_not_null.order_delivered_timestamp<\n",
    "                                orders_delivered_not_null.order_approved_at].index\n",
    "\n",
    "df_orders_cleaned.loc[idx].sort_values(by='order_purchase_timestamp').iloc[:,2:]"
   ]
  },
  {
   "cell_type": "code",
   "execution_count": null,
   "id": "8d2207b8",
   "metadata": {},
   "outputs": [],
   "source": [
    "# df_orders_cleaned.loc[idx].sort_values(by='order_purchase_timestamp')['order_purchase_timestamp']"
   ]
  },
  {
   "cell_type": "markdown",
   "id": "8b7074d9",
   "metadata": {},
   "source": [
    "- In the above records, the orders have been approved after they are updated as delivered, which clearly signifies some issue in the records.\n",
    "- We can rule out the possibility that in above records, delivered and approved time have been swapped with each other because in some records the delivery time after approval would become few minuts (as low as approx 5 mins), which does not seem fisible.\n",
    "- If we observe carefully, the some of the orders on days like 2017-09-13,2018-04-24,2018-07-05,etc.. have been approved sequencially with very short timespan in between them. This shows that the orders were delivered without being approved and later on marked approved once delivery time has been updated.\n",
    "- So, we will replace the above values from 'order_approved_at' column with avg_time required for approval after purchase."
   ]
  },
  {
   "cell_type": "code",
   "execution_count": null,
   "id": "109b9fe6",
   "metadata": {},
   "outputs": [],
   "source": [
    "df_approval_time = df_orders_cleaned[~df_orders_cleaned.index.isin(idx)][['order_purchase_timestamp','order_approved_at']]\n",
    "df_approval_time['approval_time'] = df_approval_time.order_approved_at-df_approval_time.order_purchase_timestamp\n",
    "df_approval_time.sort_values('approval_time')"
   ]
  },
  {
   "cell_type": "code",
   "execution_count": null,
   "id": "e9b902a9",
   "metadata": {},
   "outputs": [],
   "source": [
    "# checking distribution of approval_time\n",
    "\n",
    "plt.figure(figsize=(5,3))\n",
    "sns.distplot(df_approval_time.approval_time)\n",
    "plt.show()"
   ]
  },
  {
   "cell_type": "markdown",
   "id": "85f2f714",
   "metadata": {},
   "source": [
    "- we will use median because of outliers"
   ]
  },
  {
   "cell_type": "code",
   "execution_count": null,
   "id": "5bbd3ed2",
   "metadata": {},
   "outputs": [],
   "source": [
    "avg_approval_time = df_approval_time.approval_time.median()\n",
    "avg_approval_time"
   ]
  },
  {
   "cell_type": "code",
   "execution_count": null,
   "id": "afc4170e",
   "metadata": {},
   "outputs": [],
   "source": [
    "# let's correct the records in 'order_approved_at' column which were updated after delivery. \n",
    "\n",
    "df_orders_cleaned.loc[idx,'order_approved_at'] = df_orders_cleaned.order_purchase_timestamp + avg_approval_time"
   ]
  },
  {
   "cell_type": "code",
   "execution_count": null,
   "id": "129b9309",
   "metadata": {},
   "outputs": [],
   "source": [
    "# Now the records have been cleaned, Let's find out average order_delivered_timestamp."
   ]
  },
  {
   "cell_type": "code",
   "execution_count": null,
   "id": "45f1c370",
   "metadata": {},
   "outputs": [],
   "source": [
    "orders_delivered_not_null = df_orders_cleaned[~df_orders_cleaned.order_delivered_timestamp.isna()][['order_approved_at','order_delivered_timestamp']]\n",
    "orders_delivered_not_null['delivery_time'] = orders_delivered_not_null.order_delivered_timestamp-orders_delivered_not_null.order_approved_at\n",
    "orders_delivered_not_null.sort_values('delivery_time')"
   ]
  },
  {
   "cell_type": "code",
   "execution_count": null,
   "id": "c4645e5c",
   "metadata": {},
   "outputs": [],
   "source": [
    "# Checking distribution of 'delivery_time'\n",
    "\n",
    "plt.figure(figsize=(5,3))\n",
    "sns.distplot(orders_delivered_not_null['delivery_time'])\n",
    "plt.show()"
   ]
  },
  {
   "cell_type": "markdown",
   "id": "849ef3d2",
   "metadata": {},
   "source": [
    "- Now, the delivery time distribution is correct and we will use median to impute the missing values"
   ]
  },
  {
   "cell_type": "code",
   "execution_count": null,
   "id": "f024f548",
   "metadata": {},
   "outputs": [],
   "source": [
    "avg_delivery_time = orders_delivered_not_null['delivery_time'].median()\n",
    "avg_delivery_time"
   ]
  },
  {
   "cell_type": "code",
   "execution_count": null,
   "id": "0ccbf119",
   "metadata": {},
   "outputs": [],
   "source": [
    "df_orders_cleaned['order_delivered_timestamp'].fillna(df_orders_cleaned.order_approved_at+avg_delivery_time,inplace=True)"
   ]
  },
  {
   "cell_type": "code",
   "execution_count": null,
   "id": "0a8fcaa4",
   "metadata": {},
   "outputs": [],
   "source": [
    "df_orders_cleaned.reset_index(drop=True,inplace=True)"
   ]
  },
  {
   "cell_type": "code",
   "execution_count": null,
   "id": "c227c8b1",
   "metadata": {},
   "outputs": [],
   "source": [
    "df_orders_cleaned.head()"
   ]
  },
  {
   "cell_type": "code",
   "execution_count": null,
   "id": "a0d2d0e3",
   "metadata": {},
   "outputs": [],
   "source": [
    "# let's create a new variable 'Month-Year' from simple visualisation perspective\n",
    "\n",
    "df_orders_cleaned['order_yr_mon'] = df_orders_cleaned.order_purchase_timestamp.apply(lambda x:pd.to_datetime(str(x.month)+\"-\"+str(x.year),format='%m-%Y'))"
   ]
  },
  {
   "cell_type": "code",
   "execution_count": null,
   "id": "e79f68f5",
   "metadata": {},
   "outputs": [],
   "source": [
    "# let's create a new variable to identify whether the order was delayed or not?\n",
    "\n",
    "df_orders_cleaned['is_order_delayed'] = df_orders_cleaned.apply(lambda x:\"Delayed\" \n",
    "                                                                if x['order_estimated_delivery_date']<x['order_delivered_timestamp']\n",
    "                                                                else \"Not Delayed\",axis=1)"
   ]
  },
  {
   "cell_type": "code",
   "execution_count": null,
   "id": "be3f9249",
   "metadata": {},
   "outputs": [],
   "source": [
    "df_orders_cleaned.head()"
   ]
  },
  {
   "cell_type": "code",
   "execution_count": null,
   "id": "22654e20",
   "metadata": {},
   "outputs": [],
   "source": [
    "# finally, lets convert object data to categorical data\n",
    "\n",
    "for col in df_orders_cleaned.select_dtypes(\"object\").columns:\n",
    "    df_orders_cleaned[col] = df_orders_cleaned[col].astype(\"category\")"
   ]
  },
  {
   "cell_type": "code",
   "execution_count": null,
   "id": "5c844419",
   "metadata": {},
   "outputs": [],
   "source": [
    "df_orders_cleaned.info()"
   ]
  },
  {
   "cell_type": "markdown",
   "id": "d4fa49a1",
   "metadata": {},
   "source": [
    "### 2.2 Ordered Items Dataframe"
   ]
  },
  {
   "cell_type": "code",
   "execution_count": null,
   "id": "16e7dbff",
   "metadata": {},
   "outputs": [],
   "source": [
    "df_ord_items.info()"
   ]
  },
  {
   "cell_type": "code",
   "execution_count": null,
   "id": "e7ec5497",
   "metadata": {},
   "outputs": [],
   "source": [
    "# here, we do not have any information of sellers other than their ids, which is not of much use, so let's drop that column.\n",
    "\n",
    "df_ord_items.drop('seller_id',axis=1,inplace=True)"
   ]
  },
  {
   "cell_type": "code",
   "execution_count": null,
   "id": "d7582f49",
   "metadata": {},
   "outputs": [],
   "source": [
    "# let's check for duplicate values by consideing 'order_id','order_item_id' as composite primary key.\n",
    "\n",
    "df_ord_items.set_index(['order_id','order_item_id']).index.duplicated().sum()"
   ]
  },
  {
   "cell_type": "code",
   "execution_count": null,
   "id": "0cacce95",
   "metadata": {},
   "outputs": [],
   "source": [
    "df_ord_items[['price','shipping_charges']].describe()"
   ]
  },
  {
   "cell_type": "markdown",
   "id": "6e610cd2",
   "metadata": {},
   "source": [
    "We can definitely observe outliers, we will look into it on later stage"
   ]
  },
  {
   "cell_type": "code",
   "execution_count": null,
   "id": "506abe12",
   "metadata": {},
   "outputs": [],
   "source": [
    "# lets check the order_item_id column for any anomaly. \n",
    "\n",
    "df_ord_items['order_item_id'].value_counts()"
   ]
  },
  {
   "cell_type": "code",
   "execution_count": null,
   "id": "8a311f0d",
   "metadata": {},
   "outputs": [],
   "source": [
    "# We can convert order_item_id variable along with object variables to categorical variable."
   ]
  },
  {
   "cell_type": "code",
   "execution_count": null,
   "id": "7fef4646",
   "metadata": {},
   "outputs": [],
   "source": [
    "for col in ['order_id', 'product_id']:\n",
    "    df_ord_items[col] = df_ord_items[col].astype(\"category\")"
   ]
  },
  {
   "cell_type": "code",
   "execution_count": null,
   "id": "c48f8918",
   "metadata": {},
   "outputs": [],
   "source": [
    "df_ord_items.info()"
   ]
  },
  {
   "cell_type": "markdown",
   "id": "66a7151f",
   "metadata": {},
   "source": [
    "### 2.3 Customers Dataframe"
   ]
  },
  {
   "cell_type": "code",
   "execution_count": null,
   "id": "760133a2",
   "metadata": {},
   "outputs": [],
   "source": [
    "df_customers.info()"
   ]
  },
  {
   "cell_type": "code",
   "execution_count": null,
   "id": "aada2e10",
   "metadata": {},
   "outputs": [],
   "source": [
    "df_customers.shape"
   ]
  },
  {
   "cell_type": "code",
   "execution_count": null,
   "id": "cb439790",
   "metadata": {},
   "outputs": [],
   "source": [
    "# let's check for duplicate values\n",
    "for i in df_customers.columns:\n",
    "    print(f\"duplicate values in {i}:\", df_customers[i].duplicated().sum())"
   ]
  },
  {
   "cell_type": "markdown",
   "id": "595ef849",
   "metadata": {},
   "source": [
    "- The customer_id is primary key for this dataset and it contains 3345 duplicate values."
   ]
  },
  {
   "cell_type": "code",
   "execution_count": null,
   "id": "53fc4dde",
   "metadata": {},
   "outputs": [],
   "source": [
    "# let's drop these duplicate values \n",
    "\n",
    "df_customers_cleaned = df_customers.drop_duplicates(subset=['customer_id'], keep='first')"
   ]
  },
  {
   "cell_type": "code",
   "execution_count": null,
   "id": "352774fe",
   "metadata": {},
   "outputs": [],
   "source": [
    "df_customers_cleaned = df_customers_cleaned.reset_index(drop=True)\n",
    "df_customers_cleaned"
   ]
  },
  {
   "cell_type": "code",
   "execution_count": null,
   "id": "cf04a94c",
   "metadata": {},
   "outputs": [],
   "source": [
    "# Finally, lets convert all the object columns to categorical along with zip_code column\n",
    "for col in df_customers_cleaned.columns:\n",
    "    df_customers_cleaned[col] = df_customers_cleaned[col].astype('category')"
   ]
  },
  {
   "cell_type": "code",
   "execution_count": null,
   "id": "65db729a",
   "metadata": {},
   "outputs": [],
   "source": [
    "df_customers_cleaned.info()"
   ]
  },
  {
   "cell_type": "markdown",
   "id": "8d0abebc",
   "metadata": {},
   "source": [
    "### 2.4 Payments Dataframe"
   ]
  },
  {
   "cell_type": "code",
   "execution_count": null,
   "id": "29f0f04a",
   "metadata": {},
   "outputs": [],
   "source": [
    "df_payments.info()"
   ]
  },
  {
   "cell_type": "code",
   "execution_count": null,
   "id": "8800ad5b",
   "metadata": {
    "scrolled": false
   },
   "outputs": [],
   "source": [
    "# let's check for duplicate values\n",
    "for i in df_payments.columns:\n",
    "    print(f\"duplicate values in {i}:\", df_payments[i].duplicated().sum())"
   ]
  },
  {
   "cell_type": "markdown",
   "id": "c3420a91",
   "metadata": {},
   "source": [
    "- The order_id contains some duplicate values but its acceptable, as for one order there can be multiple sequence of payments which can lead to duplicate order_id."
   ]
  },
  {
   "cell_type": "code",
   "execution_count": null,
   "id": "9dd14040",
   "metadata": {},
   "outputs": [],
   "source": [
    "#  let's check if 'order_id','payment_sequential' together gives us any duplicate values\n",
    "df_payments.set_index(['order_id','payment_sequential']).index.duplicated().sum()"
   ]
  },
  {
   "cell_type": "code",
   "execution_count": null,
   "id": "d8bd7fbe",
   "metadata": {},
   "outputs": [],
   "source": [
    "for i in ['payment_sequential','payment_installments','payment_type']:\n",
    "    print(df_payments[i].value_counts(),end=\"\\n\\n\")"
   ]
  },
  {
   "cell_type": "code",
   "execution_count": null,
   "id": "40f60d83",
   "metadata": {},
   "outputs": [],
   "source": [
    "#  let's check the payment_type variable as it is the only categorical variable with some null values"
   ]
  },
  {
   "cell_type": "code",
   "execution_count": null,
   "id": "767ec5dc",
   "metadata": {},
   "outputs": [],
   "source": [
    "df_payments[df_payments.payment_type=='not_defined']"
   ]
  },
  {
   "cell_type": "code",
   "execution_count": null,
   "id": "b3304b81",
   "metadata": {},
   "outputs": [],
   "source": [
    "# the payment_value corresponding to payment_type not_defined is 0, let's check the same for all the \n",
    "# records having 0 payment_value"
   ]
  },
  {
   "cell_type": "code",
   "execution_count": null,
   "id": "3f06532f",
   "metadata": {},
   "outputs": [],
   "source": [
    "df_payments[df_payments.payment_value==0]"
   ]
  },
  {
   "cell_type": "code",
   "execution_count": null,
   "id": "abf57da8",
   "metadata": {},
   "outputs": [],
   "source": [
    "# where ever payment_value is 0, the payment_type is voucher, so let's impute the null values with 'voucher'."
   ]
  },
  {
   "cell_type": "code",
   "execution_count": null,
   "id": "f2ca3e46",
   "metadata": {},
   "outputs": [],
   "source": [
    "df_payments.loc[df_payments.payment_type=='not_defined','payment_type'] = 'voucher'"
   ]
  },
  {
   "cell_type": "code",
   "execution_count": null,
   "id": "afefde39",
   "metadata": {},
   "outputs": [],
   "source": [
    "# Let's convert the variables to categorical data type\n",
    "\n",
    "for col in ['order_id', 'payment_type',]:\n",
    "    df_payments[col] = df_payments[col].astype(\"category\")"
   ]
  },
  {
   "cell_type": "markdown",
   "id": "c28fd7dd",
   "metadata": {},
   "source": [
    "### 2.5 Products dataframe"
   ]
  },
  {
   "cell_type": "code",
   "execution_count": null,
   "id": "bacaeade",
   "metadata": {},
   "outputs": [],
   "source": [
    "df_products.describe()"
   ]
  },
  {
   "cell_type": "code",
   "execution_count": null,
   "id": "1d86902f",
   "metadata": {
    "scrolled": true
   },
   "outputs": [],
   "source": [
    "df_products.info()"
   ]
  },
  {
   "cell_type": "markdown",
   "id": "cb3b2db4",
   "metadata": {},
   "source": [
    "- null values are present in all the variables apart from product_id"
   ]
  },
  {
   "cell_type": "code",
   "execution_count": null,
   "id": "aa947b85",
   "metadata": {},
   "outputs": [],
   "source": [
    "# let's check for duplicate values\n",
    "\n",
    "for i in df_products.columns:\n",
    "    print(f\"duplicate values in {i}:\", df_products[i].duplicated().sum())"
   ]
  },
  {
   "cell_type": "markdown",
   "id": "31e036b0",
   "metadata": {},
   "source": [
    "- The primary key product_id does not have any duplicate values."
   ]
  },
  {
   "cell_type": "code",
   "execution_count": null,
   "id": "64133833",
   "metadata": {},
   "outputs": [],
   "source": [
    "# let's check the null value count\n",
    "\n",
    "df_products.isna().sum()"
   ]
  },
  {
   "cell_type": "code",
   "execution_count": null,
   "id": "c9bfb215",
   "metadata": {},
   "outputs": [],
   "source": [
    "# let's first check for product weight variable\n",
    "df_products[df_products.product_weight_g.isna()]"
   ]
  },
  {
   "cell_type": "markdown",
   "id": "a64a9a67",
   "metadata": {},
   "source": [
    "- It is evident that for the above product_id all the information related to product specification is missing. and the missingness is completely at random, we will impute them with median values because of presence of outliers."
   ]
  },
  {
   "cell_type": "code",
   "execution_count": null,
   "id": "0709bf8e",
   "metadata": {},
   "outputs": [],
   "source": [
    "# imputing null values with median\n",
    "for col in ['product_weight_g','product_length_cm', 'product_height_cm', 'product_width_cm']:\n",
    "    df_products[col].fillna(df_products[col].median(),inplace=True)"
   ]
  },
  {
   "cell_type": "code",
   "execution_count": null,
   "id": "7ade952a",
   "metadata": {},
   "outputs": [],
   "source": [
    "# let's check missing value percentage from product_category_name\n",
    "df_products.product_category_name.value_counts(normalize=True,dropna=False)*100"
   ]
  },
  {
   "cell_type": "markdown",
   "id": "c361ec66",
   "metadata": {},
   "source": [
    "- 75% of products belong to 'Toys' category and 0.5% are null values. let's impute null values with mode. "
   ]
  },
  {
   "cell_type": "code",
   "execution_count": null,
   "id": "69161455",
   "metadata": {},
   "outputs": [],
   "source": [
    "mode = df_products.product_category_name.mode()[0]\n",
    "mode"
   ]
  },
  {
   "cell_type": "code",
   "execution_count": null,
   "id": "3ad1c146",
   "metadata": {},
   "outputs": [],
   "source": [
    "# filling null values with mode\n",
    "df_products.product_category_name.fillna(mode,inplace=True)"
   ]
  },
  {
   "cell_type": "code",
   "execution_count": null,
   "id": "e750f4a1",
   "metadata": {},
   "outputs": [],
   "source": [
    "# changing object data type to categorical\n",
    "\n",
    "for col in ['product_id','product_category_name']:\n",
    "    df_products[col] = df_products[col].astype('category')"
   ]
  },
  {
   "cell_type": "code",
   "execution_count": null,
   "id": "dff3237b",
   "metadata": {},
   "outputs": [],
   "source": [
    "df_products.info()"
   ]
  },
  {
   "cell_type": "markdown",
   "id": "68d2cda2",
   "metadata": {},
   "source": [
    "# 3. Univariate Analysis and Detection of Outliers\n",
    "\n",
    "\n",
    "- Our aim is to \n",
    "1) Understand the distribution of numerical and categorical data. \n",
    "2) Check for presence of outliers in numerical data."
   ]
  },
  {
   "cell_type": "markdown",
   "id": "9ee0bf06",
   "metadata": {},
   "source": [
    "### 3.1 Orderes data"
   ]
  },
  {
   "cell_type": "code",
   "execution_count": null,
   "id": "5df593d9",
   "metadata": {},
   "outputs": [],
   "source": [
    "df_orders_cleaned.head()"
   ]
  },
  {
   "cell_type": "code",
   "execution_count": null,
   "id": "890f18ee",
   "metadata": {},
   "outputs": [],
   "source": [
    "df_orders_cleaned.info()"
   ]
  },
  {
   "cell_type": "code",
   "execution_count": null,
   "id": "03767af9",
   "metadata": {},
   "outputs": [],
   "source": [
    "# count of delayed vs not delayed orders\n",
    "\n",
    "df_orders_cleaned.groupby(\"is_order_delayed\")['order_id'].count().plot.bar()\n",
    "plt.show()"
   ]
  },
  {
   "cell_type": "markdown",
   "id": "6d1b1633",
   "metadata": {},
   "source": [
    "- majority of orders were delivered on or before time."
   ]
  },
  {
   "cell_type": "code",
   "execution_count": null,
   "id": "485833de",
   "metadata": {},
   "outputs": [],
   "source": [
    "# most delayed order month-year\n",
    "\n",
    "df_orders_cleaned[df_orders_cleaned.is_order_delayed==\"Delayed\"].groupby('order_yr_mon')['order_id'].count().sort_index().plot()\n",
    "plt.show()"
   ]
  },
  {
   "cell_type": "markdown",
   "id": "24a0b1af",
   "metadata": {},
   "source": [
    "- The number of orders delayed were highest in '03-2018' followed by '02-2018'"
   ]
  },
  {
   "cell_type": "markdown",
   "id": "cf7f9438",
   "metadata": {},
   "source": [
    "### 3.2 Ordered Items data"
   ]
  },
  {
   "cell_type": "code",
   "execution_count": null,
   "id": "825574b7",
   "metadata": {},
   "outputs": [],
   "source": [
    "df_ord_items.head()"
   ]
  },
  {
   "cell_type": "code",
   "execution_count": null,
   "id": "efb1c056",
   "metadata": {},
   "outputs": [],
   "source": [
    "df_ord_items.describe(percentiles=[0.25,0.50,0.75,0.90,0.95,0.99])"
   ]
  },
  {
   "cell_type": "markdown",
   "id": "753aed55",
   "metadata": {},
   "source": [
    "- the difference between 99th percentile and max value in 'price' and 'shipping_charges' is quite large, which signifies presence of outliers. we will check the distribution and take decision accordingly."
   ]
  },
  {
   "cell_type": "code",
   "execution_count": null,
   "id": "bb47472c",
   "metadata": {},
   "outputs": [],
   "source": [
    "plt.figure(figsize=(15,5))\n",
    "for i,j in enumerate(['price','shipping_charges']):\n",
    "    plt.subplot(1,2,i+1)\n",
    "    sns.boxplot(df_ord_items[j])\n",
    "plt.show()"
   ]
  },
  {
   "cell_type": "code",
   "execution_count": null,
   "id": "9b7ef04c",
   "metadata": {},
   "outputs": [],
   "source": [
    "plt.figure(figsize=(15,10))\n",
    "for i,j in enumerate(['price','shipping_charges']):\n",
    "    plt.subplot(2,1,i+1)\n",
    "    sns.distplot(df_ord_items[j])\n",
    "    plt.axvline(df_ord_items[j].mean(), color=\"red\")\n",
    "    plt.axvline(df_ord_items[j].median(), color=\"green\")\n",
    "    plt.xlabel(None)\n",
    "    print(f\"skewness in {j} distribution:\", round(df_ord_items[j].skew(),2))\n",
    "    plt.title(j)\n",
    "plt.show()"
   ]
  },
  {
   "cell_type": "markdown",
   "id": "fbe644a9",
   "metadata": {},
   "source": [
    "- all of the distributions are positively skewed, which denotes that the outliers are present towards the right of the distribution"
   ]
  },
  {
   "cell_type": "code",
   "execution_count": null,
   "id": "348f23ca",
   "metadata": {},
   "outputs": [],
   "source": [
    "plt.figure(figsize=(10,5))\n",
    "df_ord_items.order_item_id.value_counts().plot.bar()\n",
    "plt.show()"
   ]
  },
  {
   "cell_type": "markdown",
   "id": "94c95598",
   "metadata": {},
   "source": [
    "- Majority of orders consists of item_no 1. We can sday that item_no 1 is the most popular product."
   ]
  },
  {
   "cell_type": "markdown",
   "id": "77b4f52f",
   "metadata": {},
   "source": [
    "### 3.3 Products data"
   ]
  },
  {
   "cell_type": "code",
   "execution_count": null,
   "id": "18e7af84",
   "metadata": {},
   "outputs": [],
   "source": [
    "df_products.head()"
   ]
  },
  {
   "cell_type": "code",
   "execution_count": null,
   "id": "7aae0415",
   "metadata": {},
   "outputs": [],
   "source": [
    "df_products.describe(percentiles=[0.25,0.50,0.75,0.90,0.95,0.99])"
   ]
  },
  {
   "cell_type": "code",
   "execution_count": null,
   "id": "ef693aa4",
   "metadata": {},
   "outputs": [],
   "source": [
    "#  top 20 product categories\n",
    "plt.figure(figsize=(10,5))\n",
    "(df_products.product_category_name.value_counts()[:20]).plot.bar()\n",
    "plt.title(\"product_category_name count\")\n",
    "plt.show()"
   ]
  },
  {
   "cell_type": "markdown",
   "id": "5a655b26",
   "metadata": {},
   "source": [
    "- Toys are the most popular product category"
   ]
  },
  {
   "cell_type": "code",
   "execution_count": null,
   "id": "36de14ef",
   "metadata": {},
   "outputs": [],
   "source": [
    "prod_num_cols = df_products.select_dtypes('float64').columns\n",
    "prod_num_cols"
   ]
  },
  {
   "cell_type": "code",
   "execution_count": null,
   "id": "f59b4d22",
   "metadata": {},
   "outputs": [],
   "source": [
    "plt.figure(figsize=(15,10))\n",
    "for i,j in enumerate(prod_num_cols,1):\n",
    "    plt.subplot(2,2,i)\n",
    "    sns.boxplot(df_products[j])\n",
    "    plt.title(j)\n",
    "plt.show()"
   ]
  },
  {
   "cell_type": "markdown",
   "id": "a75a4624",
   "metadata": {},
   "source": [
    "- In all the variables, outliers are present"
   ]
  },
  {
   "cell_type": "code",
   "execution_count": null,
   "id": "4ce9b24e",
   "metadata": {},
   "outputs": [],
   "source": [
    "plt.figure(figsize=(15,8))\n",
    "for i,j in enumerate(prod_num_cols,1):\n",
    "    plt.subplot(2,2,i)\n",
    "    sns.distplot(df_products[j])\n",
    "    plt.axvline(df_products[j].mean(),color='red')\n",
    "    plt.axvline(df_products[j].median(),color='green')\n",
    "    print(f\"skewness in {j} distribution:\", round(df_products[j].skew(),2))\n",
    "    plt.xlabel(None)\n",
    "    plt.title(j)\n",
    "plt.show()"
   ]
  },
  {
   "cell_type": "markdown",
   "id": "0ab355a6",
   "metadata": {},
   "source": [
    "- all of the distributions are positively skewed, which denotes that the outliers are present towards the right of the distribution"
   ]
  },
  {
   "cell_type": "markdown",
   "id": "af35dad9",
   "metadata": {},
   "source": [
    "### 3.4 Payments data"
   ]
  },
  {
   "cell_type": "code",
   "execution_count": null,
   "id": "083beb37",
   "metadata": {},
   "outputs": [],
   "source": [
    "df_payments.head()"
   ]
  },
  {
   "cell_type": "code",
   "execution_count": null,
   "id": "8289a172",
   "metadata": {},
   "outputs": [],
   "source": [
    "df_payments.describe()"
   ]
  },
  {
   "cell_type": "code",
   "execution_count": null,
   "id": "2000c1b5",
   "metadata": {},
   "outputs": [],
   "source": [
    "# although the payment_sequencials and payment_installments column is numerical, it has values from 1 to 29 and 0 to 24 respectively\n",
    "# and it can be considered as categorical column, lets check the value count \n",
    "plt.figure(figsize=(15,5))\n",
    "plt.subplot(1,2,1)\n",
    "df_payments['payment_sequential'].value_counts().sort_index().plot.bar()\n",
    "plt.title('payment_sequential')\n",
    "plt.subplot(1,2,2)\n",
    "df_payments['payment_installments'].value_counts().sort_index().plot.bar()\n",
    "plt.title('payment_installments')\n",
    "plt.show()"
   ]
  },
  {
   "cell_type": "markdown",
   "id": "d5c283f6",
   "metadata": {},
   "source": [
    "- Majority of orders were paid in single transaction only, i.e. only through 1 mode or source of payment.\n",
    "- Majority of orders were paid in 1 installment. Also, we can observe a declining trend in the number of orders as the number of installments increases, with exception at 8 and 10 installments"
   ]
  },
  {
   "cell_type": "code",
   "execution_count": null,
   "id": "75578034",
   "metadata": {},
   "outputs": [],
   "source": [
    "plt.figure(figsize=(15,10))\n",
    "plt.subplot(2,1,1)\n",
    "sns.boxplot(df_payments['payment_value'])\n",
    "plt.title('payment_value distribution')\n",
    "plt.subplot(2,1,2)\n",
    "sns.distplot(df_payments['payment_value'])\n",
    "plt.axvline(df_payments['payment_value'].mean(),color='red')\n",
    "plt.axvline(df_payments['payment_value'].median(),color='green')\n",
    "plt.title('payment_value distribution')\n",
    "plt.show()"
   ]
  },
  {
   "cell_type": "markdown",
   "id": "586379da",
   "metadata": {},
   "source": [
    "- Outliers are present in the payments_value variable"
   ]
  },
  {
   "cell_type": "markdown",
   "id": "86b33088",
   "metadata": {},
   "source": [
    "### 3.5 Customer data"
   ]
  },
  {
   "cell_type": "code",
   "execution_count": null,
   "id": "da01aaa1",
   "metadata": {},
   "outputs": [],
   "source": [
    "df_customers_cleaned.head()"
   ]
  },
  {
   "cell_type": "code",
   "execution_count": null,
   "id": "eb4092d2",
   "metadata": {},
   "outputs": [],
   "source": [
    "df_customers_cleaned.info()"
   ]
  },
  {
   "cell_type": "code",
   "execution_count": null,
   "id": "7d4c62fe",
   "metadata": {},
   "outputs": [],
   "source": [
    "# only checking top 20 cities based on count\n",
    "plt.figure(figsize=(10,5))\n",
    "((df_customers_cleaned.customer_city.value_counts()*100)[:20]).plot.bar()\n",
    "plt.title(\"Top 20 cities\")\n",
    "plt.show()"
   ]
  },
  {
   "cell_type": "code",
   "execution_count": null,
   "id": "fd698129",
   "metadata": {},
   "outputs": [],
   "source": [
    "plt.figure(figsize=(10,5))\n",
    "df_customers_cleaned.customer_state.value_counts().plot.bar()\n",
    "plt.title(\"Statewise count of customers\")\n",
    "plt.show()"
   ]
  },
  {
   "cell_type": "markdown",
   "id": "806db4b8",
   "metadata": {},
   "source": [
    "- SP has highest number of customers\n",
    "- RR has lowest number of customers"
   ]
  },
  {
   "cell_type": "markdown",
   "id": "f8499422",
   "metadata": {},
   "source": [
    "# 4. Bivariate and Multivariate Analysis"
   ]
  },
  {
   "cell_type": "markdown",
   "id": "a56dfb65",
   "metadata": {},
   "source": [
    "### 4.1 Order Items Data"
   ]
  },
  {
   "cell_type": "code",
   "execution_count": null,
   "id": "68ea2477",
   "metadata": {},
   "outputs": [],
   "source": [
    "# barplot function\n",
    "def bar_plot(df,x,y,estimator='mean'):\n",
    "    plt.figure(figsize=(10,5))\n",
    "    sns.barplot(data=df,x=x,y=y,estimator=estimator)\n",
    "    plt.title(x+\" Vs \"+y)\n",
    "    plt.show()"
   ]
  },
  {
   "cell_type": "code",
   "execution_count": null,
   "id": "57850294",
   "metadata": {
    "scrolled": true
   },
   "outputs": [],
   "source": [
    "df_ord_items.head()"
   ]
  },
  {
   "cell_type": "code",
   "execution_count": null,
   "id": "67f45e8a",
   "metadata": {},
   "outputs": [],
   "source": [
    "plt.figure(figsize=(15,5))\n",
    "sns.regplot(data=df_ord_items,x='price',y='shipping_charges',marker='x')\n",
    "plt.show()"
   ]
  },
  {
   "cell_type": "markdown",
   "id": "6d928935",
   "metadata": {},
   "source": [
    "- price and shipping charges are roughly showing positive correlation but it is quite weak."
   ]
  },
  {
   "cell_type": "markdown",
   "id": "bff72775",
   "metadata": {},
   "source": [
    "### 4.2 Products data"
   ]
  },
  {
   "cell_type": "code",
   "execution_count": null,
   "id": "772a4efa",
   "metadata": {},
   "outputs": [],
   "source": [
    "num_cols = ['product_weight_g','product_length_cm','product_height_cm','product_width_cm']"
   ]
  },
  {
   "cell_type": "code",
   "execution_count": null,
   "id": "fd912223",
   "metadata": {},
   "outputs": [],
   "source": [
    "for i in num_cols:\n",
    "    plt.figure(figsize=(15,5))\n",
    "    df_products.groupby(by='product_category_name')[i].median().sort_values(ascending=False).plot.bar()\n",
    "    plt.title('product_category_name Vs '+i)\n",
    "    plt.show()"
   ]
  },
  {
   "cell_type": "markdown",
   "id": "a30c7e00",
   "metadata": {},
   "source": [
    "Product_category with highest\n",
    "- product_weight_g - Office_furniture\n",
    "- product_length_cm - Office_furniture\n",
    "- product_height_cm - Office_furniture\n",
    "- product_width_cm - computers"
   ]
  },
  {
   "cell_type": "code",
   "execution_count": null,
   "id": "e80d8212",
   "metadata": {
    "scrolled": true
   },
   "outputs": [],
   "source": [
    "sns.heatmap(df_products[num_cols].corr(),cmap=\"RdYlGn\",annot=True)\n",
    "plt.show()"
   ]
  },
  {
   "cell_type": "markdown",
   "id": "d6a09ab9",
   "metadata": {},
   "source": [
    "some variables are showing moderate correlation, although not strong but they are linearly dependent \n",
    "- product_weight and product_height\n",
    "- product_length and product_width\n",
    "- product_weight and product_width"
   ]
  },
  {
   "cell_type": "markdown",
   "id": "fae8f459",
   "metadata": {},
   "source": [
    "### 4.3 payments data"
   ]
  },
  {
   "cell_type": "code",
   "execution_count": null,
   "id": "9e95a77e",
   "metadata": {},
   "outputs": [],
   "source": [
    "df_payments.head()"
   ]
  },
  {
   "cell_type": "code",
   "execution_count": null,
   "id": "c00139f1",
   "metadata": {},
   "outputs": [],
   "source": [
    "plt.figure(figsize=(10,5))\n",
    "sns.boxplot(data=df_payments,x='payment_type',y='payment_value')\n",
    "plt.title('payment_type VS payment_value')\n",
    "plt.show()"
   ]
  },
  {
   "cell_type": "markdown",
   "id": "4a555e26",
   "metadata": {},
   "source": [
    "- Beacause of outliers, it is difficult to interprete but if we compare max values then we can say that customers prefer credit_card for higher payment values and voucher for lower payment_value."
   ]
  },
  {
   "cell_type": "code",
   "execution_count": null,
   "id": "b2fa1b1a",
   "metadata": {
    "scrolled": false
   },
   "outputs": [],
   "source": [
    "bar_plot(df=df_payments,x='payment_type',y='payment_value',estimator='median')"
   ]
  },
  {
   "cell_type": "markdown",
   "id": "0866b24a",
   "metadata": {},
   "source": [
    "- it is evident that credit_card is generally used for transactions above $100. "
   ]
  },
  {
   "cell_type": "code",
   "execution_count": null,
   "id": "e1dcc2b0",
   "metadata": {},
   "outputs": [],
   "source": [
    "bar_plot(df=df_payments,x='payment_installments',y='payment_value',estimator='median')"
   ]
  },
  {
   "cell_type": "markdown",
   "id": "5294c83f",
   "metadata": {},
   "source": [
    "- It is evident that as the payment_value increases, customers tend to opt for higher number of installments."
   ]
  },
  {
   "cell_type": "code",
   "execution_count": null,
   "id": "80edca81",
   "metadata": {},
   "outputs": [],
   "source": [
    "bar_plot(df=df_payments,x='payment_sequential',y='payment_value',estimator='median')"
   ]
  },
  {
   "cell_type": "markdown",
   "id": "86ec81d7",
   "metadata": {},
   "source": [
    "- As we have already seen that majority of orders were paid through single payment mode only, but we can observe a declining trend in payment value as the sequence of payment increases.\n",
    "- The major amount of payment_value is paid on the 1st payment of sequencial payments."
   ]
  },
  {
   "cell_type": "markdown",
   "id": "9d6b8104",
   "metadata": {},
   "source": [
    "# 5. Merged Data"
   ]
  },
  {
   "cell_type": "code",
   "execution_count": null,
   "id": "28b3939e",
   "metadata": {},
   "outputs": [],
   "source": [
    "df_retail = df_ord_items.merge(df_products,how='inner',on='product_id')\n",
    "df_retail = df_retail.merge(df_orders_cleaned,how='inner',on='order_id')\n",
    "df_retail = df_retail.merge(df_payments,how='inner',on='order_id')\n",
    "df_retail = df_retail.merge(df_customers_cleaned,how='inner',on='customer_id')\n",
    "df_retail"
   ]
  },
  {
   "cell_type": "code",
   "execution_count": null,
   "id": "4b1992c4",
   "metadata": {},
   "outputs": [],
   "source": [
    "df_retail.isna().sum()"
   ]
  },
  {
   "cell_type": "code",
   "execution_count": null,
   "id": "825d8089",
   "metadata": {},
   "outputs": [],
   "source": [
    "df_retail.shape"
   ]
  },
  {
   "cell_type": "code",
   "execution_count": null,
   "id": "3d023726",
   "metadata": {},
   "outputs": [],
   "source": [
    "df_retail.info()"
   ]
  },
  {
   "cell_type": "code",
   "execution_count": null,
   "id": "eb93b021",
   "metadata": {},
   "outputs": [],
   "source": [
    "# The datatype of columns, basis on which we performed merge, have been changed to object, let's change it back to category.\n",
    "for col in df_retail.select_dtypes('object').columns:\n",
    "    df_retail[col] = df_retail[col].astype('category')"
   ]
  },
  {
   "cell_type": "code",
   "execution_count": null,
   "id": "be44e567",
   "metadata": {},
   "outputs": [],
   "source": [
    "df_retail.describe(percentiles=[0.25,0.50,0.75,0.90,0.95,0.99])"
   ]
  },
  {
   "cell_type": "markdown",
   "id": "e5a3ce29",
   "metadata": {},
   "source": [
    "# 6. Bivariate and Multivariate analysis on merged data"
   ]
  },
  {
   "cell_type": "code",
   "execution_count": null,
   "id": "bf7a6862",
   "metadata": {},
   "outputs": [],
   "source": [
    "numerical_cols = df_retail.select_dtypes('float64').columns\n",
    "numerical_cols"
   ]
  },
  {
   "cell_type": "code",
   "execution_count": null,
   "id": "2000c589",
   "metadata": {},
   "outputs": [],
   "source": [
    "# after merging the data sets, the outliers might have changed, let's check with box plot\n",
    "\n",
    "plt.figure(figsize=(15,15))\n",
    "for i,j in enumerate(numerical_cols,1):\n",
    "    plt.subplot(4,2,i)\n",
    "    sns.boxplot(df_retail[j])\n",
    "    plt.title(j)\n",
    "plt.show()"
   ]
  },
  {
   "cell_type": "markdown",
   "id": "04d052c5",
   "metadata": {},
   "source": [
    "- The numerical data contains outliers, although extreme they are all valid values so removing them will lead to misinterpretation of results."
   ]
  },
  {
   "cell_type": "code",
   "execution_count": null,
   "id": "6b5d23fd",
   "metadata": {},
   "outputs": [],
   "source": [
    "plt.figure(figsize=(5,5))\n",
    "sns.heatmap(df_retail[numerical_cols].corr(),cmap=\"RdYlGn\",annot=True)\n",
    "plt.show()"
   ]
  },
  {
   "cell_type": "markdown",
   "id": "35123b4e",
   "metadata": {},
   "source": [
    "Based on the correlation coefficient, we can say that\n",
    "- price and payment_value are strongly correlated.\n",
    "- product_weight_g and shipping_charges show moderate correlation."
   ]
  },
  {
   "cell_type": "markdown",
   "id": "3a41ae0e",
   "metadata": {},
   "source": [
    "Let's also check pair plots to see if we can find any pattern among these variables"
   ]
  },
  {
   "cell_type": "code",
   "execution_count": null,
   "id": "6bb9949e",
   "metadata": {},
   "outputs": [],
   "source": [
    "sns.pairplot(df_retail[numerical_cols])\n",
    "plt.show()"
   ]
  },
  {
   "cell_type": "markdown",
   "id": "42abee0b",
   "metadata": {},
   "source": [
    "- Apart from the already deduced correlations, majority of the other variables are randomly distributed."
   ]
  },
  {
   "cell_type": "code",
   "execution_count": null,
   "id": "b36e1ccd",
   "metadata": {},
   "outputs": [],
   "source": [
    "# customer_state\n",
    "\n",
    "plt.figure(figsize=(15,15))\n",
    "for i,j in enumerate(['price','payment_value','shipping_charges'],1):\n",
    "    plt.subplot(3,1,i)\n",
    "    df_retail.groupby(by='customer_state')[j].median().sort_values(ascending=False).plot.bar()\n",
    "    plt.title('customer_state Vs. '+j)\n",
    "    plt.xlabel(None)\n",
    "plt.show()"
   ]
  },
  {
   "cell_type": "markdown",
   "id": "50be8b4b",
   "metadata": {},
   "source": [
    "- 'AC' state has highest median 'payment_value' where as 'SP' has the lowest value for all 3 variables."
   ]
  },
  {
   "cell_type": "code",
   "execution_count": null,
   "id": "0958d340",
   "metadata": {},
   "outputs": [],
   "source": [
    "(df_retail[df_retail.is_order_delayed==\"Delayed\"]).groupby(by='customer_state')['customer_state'].count().sort_values(ascending=False).plot.bar()\n",
    "plt.show()"
   ]
  },
  {
   "cell_type": "markdown",
   "id": "85c4526d",
   "metadata": {},
   "source": [
    "- Highest delayed orders were from state 'SP' which happens to have lowest median order price and lowest median shipping_charges. \n",
    "- There could be some interesting relationship between shipping_charges and order being delayed."
   ]
  },
  {
   "cell_type": "code",
   "execution_count": null,
   "id": "42efa601",
   "metadata": {},
   "outputs": [],
   "source": [
    "df_retail.groupby(by='customer_state')['shipping_charges'].median().sort_values(ascending=False).plot.bar()\n",
    "plt.ylabel(\"shipping_charges_(median) \")\n",
    "ax2 = plt.twinx()\n",
    "(df_retail[df_retail.is_order_delayed==\"Delayed\"]).groupby(by='customer_state')['customer_state'].count().plot(ax=ax2,color=\"red\",ylabel=\"Count of delayed orders\")\n",
    "plt.show()"
   ]
  },
  {
   "cell_type": "markdown",
   "id": "62e02642",
   "metadata": {},
   "source": [
    "#### 'Delayed_orders'\n",
    "- we can roughly say that the order getting delayed is dependent on the amount of shipping_chareges paid, higher the shipping_charges lower is the possibility of delay."
   ]
  },
  {
   "cell_type": "markdown",
   "id": "8fd83401",
   "metadata": {},
   "source": [
    "# 7. Saving the cleaned Dataset"
   ]
  },
  {
   "cell_type": "code",
   "execution_count": null,
   "id": "df08e324",
   "metadata": {},
   "outputs": [],
   "source": [
    "df_retail.to_csv('retail_dataset_cleaned.csv')"
   ]
  },
  {
   "cell_type": "markdown",
   "id": "792ad556",
   "metadata": {},
   "source": [
    "# 8. Data Preparation for Market Basket Analysis"
   ]
  },
  {
   "cell_type": "markdown",
   "id": "ed570546",
   "metadata": {},
   "source": [
    "#### As we need to perform market basket analysis on the product category, we will only consider order_id and product category columns\n",
    "#### Also we will need two different tables to perform self join in tableau.\n"
   ]
  },
  {
   "cell_type": "code",
   "execution_count": null,
   "id": "c062d98a",
   "metadata": {},
   "outputs": [],
   "source": [
    "basket = df_retail[['order_id','product_category_name']]\n",
    "basket.head()"
   ]
  },
  {
   "cell_type": "markdown",
   "id": "bd384d66",
   "metadata": {},
   "source": [
    "#### we will also make a sr.no column for each category to uniquely identify the categories once self join is performed in Tableau."
   ]
  },
  {
   "cell_type": "code",
   "execution_count": null,
   "id": "bdaa2dd6",
   "metadata": {},
   "outputs": [],
   "source": [
    "categories_list = df_retail.product_category_name.unique().sort_values().tolist()"
   ]
  },
  {
   "cell_type": "code",
   "execution_count": null,
   "id": "e4ed0508",
   "metadata": {},
   "outputs": [],
   "source": [
    "df_category_id = pd.DataFrame({'Category_id':range(1,len(categories_list)+1),'Category':categories_list})\n",
    "df_category_id.head()"
   ]
  },
  {
   "cell_type": "code",
   "execution_count": null,
   "id": "78de2b5b",
   "metadata": {},
   "outputs": [],
   "source": [
    "df_basket = basket.merge(df_category_id,how='inner',left_on='product_category_name',right_on='Category')\n",
    "df_basket.drop('Category',axis=1,inplace=True)\n",
    "df_basket.head()"
   ]
  },
  {
   "cell_type": "code",
   "execution_count": null,
   "id": "9c4205e7",
   "metadata": {},
   "outputs": [],
   "source": [
    "xls = pd.ExcelWriter('Basket_data.xlsx', engine='xlsxwriter')\n",
    "\n",
    "df_basket.to_excel(xls, sheet_name='ord_prod_1', index = False)\n",
    "df_basket.to_excel(xls, sheet_name='ord_prod_2', index = False)\n",
    "\n",
    "xls.save()"
   ]
  }
 ],
 "metadata": {
  "kernelspec": {
   "display_name": "Python 3 (ipykernel)",
   "language": "python",
   "name": "python3"
  },
  "language_info": {
   "codemirror_mode": {
    "name": "ipython",
    "version": 3
   },
   "file_extension": ".py",
   "mimetype": "text/x-python",
   "name": "python",
   "nbconvert_exporter": "python",
   "pygments_lexer": "ipython3",
   "version": "3.10.9"
  }
 },
 "nbformat": 4,
 "nbformat_minor": 5
}
